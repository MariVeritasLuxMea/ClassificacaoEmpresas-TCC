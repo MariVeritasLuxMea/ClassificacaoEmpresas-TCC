{
 "cells": [
  {
   "cell_type": "markdown",
   "id": "nonprofit-valentine",
   "metadata": {},
   "source": [
    "# Coleta de dados\n",
    "A fim de criar um modelo para classificar os fornecedores do Governo Federal entre os que tem alto risco de descumprimento contratual e os de baixo risco, precisaremos obter os seguintes dados:\n",
    "* _Contratos_ firmados por empresas com o Governo Federal, disponíveis no [Portal da Transparência do Governo Federal](http://www.portaltransparencia.gov.br/download-de-dados/compras)\n",
    "* _Ocorrências por fornecedor_, disponíveis via [API do site Compras Governamentais](http://compras.dados.gov.br/docs/fornecedores/v1/ocorrencias_fornecedores.html)\n",
    "* _Licitações realizadas_ pelo Governo Federal, com dados sobre os participantes e vencedores, disponíveis no [Portal da Transparência do Governo Federal](https://www.portaltransparencia.gov.br/download-de-dados/licitacoes)\n",
    "* _Dados cadastrais dos fornecedores_, disponíveis na [base do CNPJ, já tratada](https://github.com/georgevbsantiago/qsacnpj)"
   ]
  },
  {
   "cell_type": "code",
   "execution_count": 1,
   "id": "dying-change",
   "metadata": {},
   "outputs": [
    {
     "name": "stdout",
     "output_type": "stream",
     "text": [
      "Versão da Linguagem Python Usada Neste Jupyter Notebook: 3.7.9\n"
     ]
    }
   ],
   "source": [
    "from platform import python_version\n",
    "print('Versão da Linguagem Python Usada Neste Jupyter Notebook:', python_version())"
   ]
  },
  {
   "cell_type": "code",
   "execution_count": 2,
   "id": "respected-baltimore",
   "metadata": {},
   "outputs": [],
   "source": [
    "import warnings\n",
    "warnings.filterwarnings('ignore')"
   ]
  },
  {
   "cell_type": "code",
   "execution_count": 3,
   "id": "tired-philadelphia",
   "metadata": {},
   "outputs": [],
   "source": [
    "import grequests\n",
    "import requests\n",
    "from bs4 import BeautifulSoup"
   ]
  },
  {
   "cell_type": "markdown",
   "id": "filled-biodiversity",
   "metadata": {},
   "source": [
    "## Ocorrências por fornecedor\n",
    "Para obter as ocorrências por fornecedor, utilizamos a [API do site Compras Governamentais](http://compras.dados.gov.br/docs/fornecedores/v1/ocorrencias_fornecedores.html). Os dados brutos serão salvos no arquivo _ocorrencias.csv_."
   ]
  },
  {
   "cell_type": "code",
   "execution_count": 4,
   "id": "forward-label",
   "metadata": {},
   "outputs": [
    {
     "name": "stdout",
     "output_type": "stream",
     "text": [
      "Intervalo de registros solicitado (acima de 260500) é maior que o total existente (260012 registros)\n"
     ]
    }
   ],
   "source": [
    "i = 0\n",
    "n = 20 #número de requisições simultâneas\n",
    "status = 200\n",
    "cabecalho = ''\n",
    "with open('./ocorrencias.csv', 'a') as outfile:\n",
    "    while status == 200:\n",
    "        urls = ['http://compras.dados.gov.br/fornecedores/v1/ocorrencias_fornecedores.csv?offset=' + str(500*j) for j in range(i, i+n)]\n",
    "        requisicoes = (grequests.get(url) for url in urls)\n",
    "        respostas = grequests.map(requisicoes)\n",
    "        for resposta in respostas:\n",
    "            status = resposta.status_code\n",
    "            if status == 200:\n",
    "                resposta.encoding = 'utf-8'\n",
    "                if cabecalho == '':\n",
    "                    cabecalho = resposta.text.split('\\n')[0]\n",
    "                    outfile.write(cabecalho + '\\n')\n",
    "                outfile.write(resposta.text.replace(cabecalho + '\\n', '').replace(u'\\u200b', ''))                \n",
    "            else:\n",
    "                url = urls[respostas.index(resposta)]\n",
    "                ultimaPagina = requests.get(url.replace('.csv', '.html'))\n",
    "                soup = BeautifulSoup(ultimaPagina.content, 'html.parser')\n",
    "                print(soup.find('p').get_text())                \n",
    "                break\n",
    "        i += n"
   ]
  },
  {
   "cell_type": "markdown",
   "id": "assigned-avatar",
   "metadata": {},
   "source": [
    "## Obtenção dos dados das licitações\n",
    "A fonte destes dados é o [Portal da Transparência do Governo Federal](http://www.portaltransparencia.gov.br/download-de-dados/licitacoes). No momento da consulta, estavam disponíveis os dados das licitações de janeiro de 2013 a fevereiro de 2021. Os dados brutos serão salvos na pasta _licitacoes_, sendo um arquivo para cada mês. O dicionário de dados pode ser obtido [aqui](http://www.portaltransparencia.gov.br/pagina-interna/603389-dicionario-de-dados-licitacoes)."
   ]
  },
  {
   "cell_type": "code",
   "execution_count": 5,
   "id": "fiscal-crossing",
   "metadata": {},
   "outputs": [],
   "source": [
    "anos = [ano for ano in range(2013, 2022)]\n",
    "meses = [mes for mes in range(1, 13)]"
   ]
  },
  {
   "cell_type": "code",
   "execution_count": 6,
   "id": "listed-safety",
   "metadata": {},
   "outputs": [],
   "source": [
    "for ano in anos:\n",
    "    for mes in meses:\n",
    "        url = 'http://www.portaltransparencia.gov.br/download-de-dados/licitacoes/' + str(ano) + str(mes).zfill(2)\n",
    "        r = requests.get(url, stream = True)\n",
    "        with open('./licitacoes/' + str(ano) + str(mes).zfill(2) + '.zip', 'wb') as file:\n",
    "            for chunk in r.iter_content(chunk_size = 128):\n",
    "                file.write(chunk)\n",
    "        if ano == 2021 and mes == 2:\n",
    "            break"
   ]
  },
  {
   "cell_type": "markdown",
   "id": "moral-terminology",
   "metadata": {},
   "source": [
    "## Obtenção dos dados dos contratos\n",
    "A fonte destes dados é o [Portal da Transparência do Governo Federal](http://www.portaltransparencia.gov.br/download-de-dados/compras). No momento da consulta, estavam disponíveis os dados dos contratos de janeiro de 2013 a março de 2021. Os dados brutos serão salvos na pasta _contratos_, sendo um arquivo para cada mês. O dicionário de dados pode ser obtido [aqui](http://www.portaltransparencia.gov.br/pagina-interna/603396-dicionario-de-dados-contratos-firmados)."
   ]
  },
  {
   "cell_type": "code",
   "execution_count": 8,
   "id": "smoking-james",
   "metadata": {},
   "outputs": [],
   "source": [
    "for ano in anos:\n",
    "    for mes in meses:\n",
    "        url = 'http://www.portaltransparencia.gov.br/download-de-dados/compras/' + str(ano) + str(mes).zfill(2)\n",
    "        r = requests.get(url, stream = True)\n",
    "        with open('./contratos/' + str(ano) + str(mes).zfill(2) + '.zip', 'wb') as file:\n",
    "            for chunk in r.iter_content(chunk_size = 128):\n",
    "                file.write(chunk)\n",
    "        if ano == 2021 and mes == 3:\n",
    "            break"
   ]
  },
  {
   "cell_type": "markdown",
   "id": "modular-damage",
   "metadata": {},
   "source": [
    "## Obtenção dos dados do cadastro do CNPJ\n",
    "Utilizaremos a base do cadastro de CNPJ que a Receita Federal disponibiliza [neste link](http://receita.economia.gov.br/orientacao/tributaria/cadastros/cadastro-nacional-de-pessoas-juridicas-cnpj/dados-publicos-cnpj), juntamente com o [layout](http://200.152.38.155/CNPJ/LAYOUT_DADOS_ABERTOS_CNPJ.pdf). Porém, esta base como disponibilizada no site da RFB está num formato bem específico, é muito grande e contém mais dados do que o que vamos precisar. [Neste outro link](https://github.com/georgevbsantiago/qsacnpj) podemos obter a mesma base, completa e em formato SQLite, o que vai facilitar bastante a utilização. Também é disponibilizado o [modelo lógico do banco de dados](https://raw.githubusercontent.com/georgevbsantiago/qsacnpj/master/img/esquema_cnpj.png). Vamos utilizar a base de dados liberada pela RFB no dia 23/11/2020 e processada com a versão 0.2.2 do pacote _qsacnpj_, que é a versão mais recente disponível para download no momento da elaboração desta análise. Este download foi feito manualmente, acessando o link via navegador e baixando o arquivo _sqlite_dados_qsa_cnpj_23-11-20.zip_."
   ]
  }
 ],
 "metadata": {
  "kernelspec": {
   "display_name": "Python 3",
   "language": "python",
   "name": "python3"
  },
  "language_info": {
   "codemirror_mode": {
    "name": "ipython",
    "version": 3
   },
   "file_extension": ".py",
   "mimetype": "text/x-python",
   "name": "python",
   "nbconvert_exporter": "python",
   "pygments_lexer": "ipython3",
   "version": "3.7.9"
  }
 },
 "nbformat": 4,
 "nbformat_minor": 5
}
